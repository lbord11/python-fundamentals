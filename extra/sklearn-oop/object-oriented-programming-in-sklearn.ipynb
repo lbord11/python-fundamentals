{
 "cells": [
  {
   "cell_type": "code",
   "execution_count": 2,
   "metadata": {
    "collapsed": false
   },
   "outputs": [],
   "source": [
    "import numpy as np\n",
    "import pandas as pd\n",
    "\n",
    "%matplotlib inline\n",
    "import matplotlib.pyplot as plt\n",
    "plt.style.use('ggplot')\n",
    "\n",
    "from sklearn.linear_model import LinearRegression, LogisticRegression\n",
    "from sklearn.preprocessing import StandardScaler\n",
    "from sklearn.feature_selection import SelectKBest, chi2\n",
    "from sklearn.pipeline import Pipeline, FeatureUnion"
   ]
  },
  {
   "cell_type": "markdown",
   "metadata": {},
   "source": [
    "# Object Oriented Programming in Sklearn"
   ]
  },
  {
   "cell_type": "markdown",
   "metadata": {},
   "source": [
    "In this extra lesson we will be digging a bit deeper into the `sklearn` library.  Our objective is not so much to learn about `sklearn`, but to explore how a professionally developed, widely used library uses the organizational principles of object oriented programming to provide a good user experience.\n",
    "\n",
    "The main theme of our explorations will be the power of **Providing a Consistent Interface**.  One of the fundamental commandments of OOP is:\n",
    "\n",
    "> Program to an interface instead of an implementation.\n",
    "\n",
    "Sklearn is a stellar example of this important programming philosophy."
   ]
  },
  {
   "cell_type": "markdown",
   "metadata": {},
   "source": [
    "## Regressors and Classifiers"
   ]
  },
  {
   "cell_type": "markdown",
   "metadata": {},
   "source": [
    "The first interface we will explore is the **Regression/Classification Interface**.\n",
    "\n",
    "**Regression** and **Classification** are two sides of the same coin.  The goal of both is **Predictive Modeling** (also called Supervised Learning, a less self explanatory term).\n",
    "\n",
    "In a predictive modeling problem we have some data $X$ (often called the **predictors**) which we want to use to make a prediction of another measurement $y$ (often called the **response**).  For example:\n",
    "\n",
    "  - Use the history of all board game ratings on [Board Game Geek]() ($X$) to predict the rating a user will give a new game ($y$).\n",
    "  - Use the history of all customers of a car insurance company ($X$) to predict the likelihood of a new customer being involved in a car accident ($y$).\n",
    "  - Predict which type of animal ($y$) appears in a black and white photo taken by a wildlife camera ($X$).\n",
    "  - Predict whether a flight will be delayed and, if so, how delayed it will be.\n",
    "  \n",
    "The general theme is that:\n",
    "\n",
    "> We **fit** a model to some data ($X, y$), and then use the model to **predict** given some new data.\n",
    "\n",
    "Let's look at two examples."
   ]
  },
  {
   "cell_type": "markdown",
   "metadata": {},
   "source": [
    "### Regression: Linear Regression"
   ]
  },
  {
   "cell_type": "markdown",
   "metadata": {},
   "source": [
    "Our first example is **linear regression**.  In linear regression we have data $X$, and our response is a **continuous** measurement."
   ]
  },
  {
   "cell_type": "markdown",
   "metadata": {
    "collapsed": false
   },
   "source": [
    "The data set we will use to demonstrate linear regression contains measurements on a single species of insect captured on two continents."
   ]
  },
  {
   "cell_type": "code",
   "execution_count": 3,
   "metadata": {
    "collapsed": false
   },
   "outputs": [
    {
     "data": {
      "text/html": [
       "<div>\n",
       "<table border=\"1\" class=\"dataframe\">\n",
       "  <thead>\n",
       "    <tr style=\"text-align: right;\">\n",
       "      <th></th>\n",
       "      <th>continent</th>\n",
       "      <th>latitude</th>\n",
       "      <th>wingsize</th>\n",
       "      <th>sex</th>\n",
       "    </tr>\n",
       "  </thead>\n",
       "  <tbody>\n",
       "    <tr>\n",
       "      <th>0</th>\n",
       "      <td>1</td>\n",
       "      <td>35.5</td>\n",
       "      <td>901</td>\n",
       "      <td>0</td>\n",
       "    </tr>\n",
       "    <tr>\n",
       "      <th>1</th>\n",
       "      <td>1</td>\n",
       "      <td>37.0</td>\n",
       "      <td>896</td>\n",
       "      <td>0</td>\n",
       "    </tr>\n",
       "    <tr>\n",
       "      <th>2</th>\n",
       "      <td>1</td>\n",
       "      <td>38.6</td>\n",
       "      <td>906</td>\n",
       "      <td>0</td>\n",
       "    </tr>\n",
       "    <tr>\n",
       "      <th>3</th>\n",
       "      <td>1</td>\n",
       "      <td>40.7</td>\n",
       "      <td>907</td>\n",
       "      <td>0</td>\n",
       "    </tr>\n",
       "    <tr>\n",
       "      <th>4</th>\n",
       "      <td>1</td>\n",
       "      <td>40.9</td>\n",
       "      <td>898</td>\n",
       "      <td>0</td>\n",
       "    </tr>\n",
       "  </tbody>\n",
       "</table>\n",
       "</div>"
      ],
      "text/plain": [
       "   continent  latitude  wingsize  sex\n",
       "0          1      35.5       901    0\n",
       "1          1      37.0       896    0\n",
       "2          1      38.6       906    0\n",
       "3          1      40.7       907    0\n",
       "4          1      40.9       898    0"
      ]
     },
     "execution_count": 3,
     "metadata": {},
     "output_type": "execute_result"
    }
   ],
   "source": [
    "insects = pd.read_csv('./data/insects.csv', sep='\\t')\n",
    "insects.head()"
   ]
  },
  {
   "cell_type": "markdown",
   "metadata": {},
   "source": [
    "Suppose we want to predict an insects wing size given the other measurements we have.  Since wing size is a continuous measurement, linear regression is an appropriate way to approach this problem.\n",
    "\n",
    "All **regression objects** are used in the same way in sklearn.\n",
    "\n",
    "1\\. Create a regression object of the appropriate type."
   ]
  },
  {
   "cell_type": "code",
   "execution_count": 4,
   "metadata": {
    "collapsed": true
   },
   "outputs": [],
   "source": [
    "insects_regression = LinearRegression()"
   ]
  },
  {
   "cell_type": "markdown",
   "metadata": {},
   "source": [
    "To unwind this a bit, `LinearRegression` is a **class**, and calling the calls with the notation `LinearRegression()` creates an **object** which is an **instance of the LinearRegression class**."
   ]
  },
  {
   "cell_type": "markdown",
   "metadata": {},
   "source": [
    "2\\. Use the `fit` method on the regression object to train the model using your data."
   ]
  },
  {
   "cell_type": "code",
   "execution_count": 5,
   "metadata": {
    "collapsed": false
   },
   "outputs": [
    {
     "data": {
      "text/plain": [
       "LinearRegression(copy_X=True, fit_intercept=True, n_jobs=1, normalize=False)"
      ]
     },
     "execution_count": 5,
     "metadata": {},
     "output_type": "execute_result"
    }
   ],
   "source": [
    "X_insects = insects[['continent', 'latitude', 'sex']]\n",
    "y_insects = insects['wingsize']\n",
    "insects_regression.fit(X_insects, y_insects)"
   ]
  },
  {
   "cell_type": "markdown",
   "metadata": {},
   "source": [
    "Above we trained a linear model to create an equation of the form:\n",
    "\n",
    "$$ \\text{WingSize} \\approx a + b \\times \\text{Continent} + c \\times \\text{Latitude} + d \\times \\text{Sex} $$\n",
    "\n",
    "When we used `fit`, the model used the data we supplied to compute the correct values of the numbers $a, b, c, d$.  We can now pull these numbers out of the model object."
   ]
  },
  {
   "cell_type": "code",
   "execution_count": 6,
   "metadata": {
    "collapsed": false
   },
   "outputs": [
    {
     "name": "stdout",
     "output_type": "stream",
     "text": [
      "a = 836.16\n"
     ]
    }
   ],
   "source": [
    "print(\"a = {:2.2f}\".format(insects_regression.intercept_))"
   ]
  },
  {
   "cell_type": "code",
   "execution_count": 7,
   "metadata": {
    "collapsed": false
   },
   "outputs": [
    {
     "name": "stdout",
     "output_type": "stream",
     "text": [
      "b, c, d = [ -4.12890383   1.79260932 -98.85714286]\n"
     ]
    }
   ],
   "source": [
    "print(\"b, c, d = {}\".format(insects_regression.coef_))"
   ]
  },
  {
   "cell_type": "markdown",
   "metadata": {},
   "source": [
    "3\\. Use the `predict` method to compute predicted values your data (could be the data you used to train the model, or another dataset entirely."
   ]
  },
  {
   "cell_type": "code",
   "execution_count": 8,
   "metadata": {
    "collapsed": true
   },
   "outputs": [],
   "source": [
    "wing_size_predictions = insects_regression.predict(X_insects)"
   ]
  },
  {
   "cell_type": "code",
   "execution_count": 9,
   "metadata": {
    "collapsed": false
   },
   "outputs": [
    {
     "name": "stdout",
     "output_type": "stream",
     "text": [
      "[ 895.67349147  898.36240545  901.23058036  904.99505993  905.35358179\n",
      "  908.04249577  912.70328     915.92997677  919.51519541  921.30780472]\n"
     ]
    }
   ],
   "source": [
    "print(wing_size_predictions[:10])"
   ]
  },
  {
   "cell_type": "markdown",
   "metadata": {},
   "source": [
    "Calling the `predict` method uses the equation to make predictions about wing size.  This is very useful if we had data on insects that we **didn't** know the wingsize of. "
   ]
  },
  {
   "cell_type": "markdown",
   "metadata": {},
   "source": [
    "For fun, let's plot the true data and the predicted data in two scatterplots."
   ]
  },
  {
   "cell_type": "code",
   "execution_count": 10,
   "metadata": {
    "collapsed": false
   },
   "outputs": [
    {
     "data": {
      "text/plain": [
       "<matplotlib.text.Text at 0x10eeb2a10>"
      ]
     },
     "execution_count": 10,
     "metadata": {},
     "output_type": "execute_result"
    },
    {
     "data": {
      "image/png": "[encoded data removed]",
      "text/plain": [
       "<matplotlib.figure.Figure at 0x10438f690>"
      ]
     },
     "metadata": {},
     "output_type": "display_data"
    }
   ],
   "source": [
    "fig, axs = plt.subplots(1, 2, figsize=(14, 5))\n",
    "\n",
    "axs[0].scatter(insects.latitude, insects.wingsize, s=40)\n",
    "axs[0].set_title(\"Actual Data\")\n",
    "axs[0].set_xlabel(\"Latitude\")\n",
    "axs[0].set_ylabel(\"Actual Wing Span\")\n",
    "\n",
    "\n",
    "axs[1].scatter(insects.latitude, wing_size_predictions, s=40)\n",
    "axs[1].set_title(\"Predicted Data\")\n",
    "axs[1].set_xlabel(\"Latitude\")\n",
    "axs[1].set_ylabel(\"Predicted Wing Span\")"
   ]
  },
  {
   "cell_type": "markdown",
   "metadata": {},
   "source": [
    "**Summary:** A `LinearRegression` uses the methods `fit` and `predict` to adapt itself to data, and to then make predictions."
   ]
  },
  {
   "cell_type": "markdown",
   "metadata": {},
   "source": [
    "### Classification: Logistic Regression"
   ]
  },
  {
   "cell_type": "markdown",
   "metadata": {},
   "source": [
    "Our second example is **logistic regression**.  In logistic regression we have data $X$, and our response \n",
    "$y$ is a **binary** measurement.\n",
    "\n",
    "A **binary** measurement can only take two values, which are traditionally labeled as $0$ and $1$.\n",
    "\n",
    "Our example will use a dataset of wells in Bangladesh.  Many family wells are contaminated with arsenic; a team of scientists visited and measured:\n",
    "\n",
    "  - The arsenic levels in each family's well.\n",
    "  - The distance to the nearest safe well.\n",
    "  - The level of education of the household.\n",
    "  - The household's involvement in the community.\n",
    "  \n",
    "After discussing the level of arsenic with each family, the families with unsafe levels of arsenic were advised to switch to a nearby safe well.  Years later, the team followed up, and measured which families switched wells."
   ]
  },
  {
   "cell_type": "code",
   "execution_count": 11,
   "metadata": {
    "collapsed": true
   },
   "outputs": [],
   "source": [
    "wells = pd.read_csv('./data/wells.dat', sep=' ')"
   ]
  },
  {
   "cell_type": "code",
   "execution_count": 12,
   "metadata": {
    "collapsed": false
   },
   "outputs": [
    {
     "data": {
      "text/html": [
       "<div>\n",
       "<table border=\"1\" class=\"dataframe\">\n",
       "  <thead>\n",
       "    <tr style=\"text-align: right;\">\n",
       "      <th></th>\n",
       "      <th>id</th>\n",
       "      <th>switch</th>\n",
       "      <th>arsenic</th>\n",
       "      <th>dist</th>\n",
       "      <th>assoc</th>\n",
       "      <th>educ</th>\n",
       "    </tr>\n",
       "  </thead>\n",
       "  <tbody>\n",
       "    <tr>\n",
       "      <th>0</th>\n",
       "      <td>1</td>\n",
       "      <td>1</td>\n",
       "      <td>2.36</td>\n",
       "      <td>16.826000</td>\n",
       "      <td>0</td>\n",
       "      <td>0</td>\n",
       "    </tr>\n",
       "    <tr>\n",
       "      <th>1</th>\n",
       "      <td>2</td>\n",
       "      <td>1</td>\n",
       "      <td>0.71</td>\n",
       "      <td>47.321999</td>\n",
       "      <td>0</td>\n",
       "      <td>0</td>\n",
       "    </tr>\n",
       "    <tr>\n",
       "      <th>2</th>\n",
       "      <td>3</td>\n",
       "      <td>0</td>\n",
       "      <td>2.07</td>\n",
       "      <td>20.966999</td>\n",
       "      <td>0</td>\n",
       "      <td>10</td>\n",
       "    </tr>\n",
       "    <tr>\n",
       "      <th>3</th>\n",
       "      <td>4</td>\n",
       "      <td>1</td>\n",
       "      <td>1.15</td>\n",
       "      <td>21.486000</td>\n",
       "      <td>0</td>\n",
       "      <td>12</td>\n",
       "    </tr>\n",
       "    <tr>\n",
       "      <th>4</th>\n",
       "      <td>5</td>\n",
       "      <td>1</td>\n",
       "      <td>1.10</td>\n",
       "      <td>40.874001</td>\n",
       "      <td>1</td>\n",
       "      <td>14</td>\n",
       "    </tr>\n",
       "  </tbody>\n",
       "</table>\n",
       "</div>"
      ],
      "text/plain": [
       "   id  switch  arsenic       dist  assoc  educ\n",
       "0   1       1     2.36  16.826000      0     0\n",
       "1   2       1     0.71  47.321999      0     0\n",
       "2   3       0     2.07  20.966999      0    10\n",
       "3   4       1     1.15  21.486000      0    12\n",
       "4   5       1     1.10  40.874001      1    14"
      ]
     },
     "execution_count": 12,
     "metadata": {},
     "output_type": "execute_result"
    }
   ],
   "source": [
    "wells.head()"
   ]
  },
  {
   "cell_type": "markdown",
   "metadata": {},
   "source": [
    "We can use a logistic regression to predict whether a family will switch based on the other data the team measured.\n",
    "\n",
    "The first step is to create a `LogisticRegression` object."
   ]
  },
  {
   "cell_type": "code",
   "execution_count": 13,
   "metadata": {
    "collapsed": true
   },
   "outputs": [],
   "source": [
    "wells_regression = LogisticRegression()"
   ]
  },
  {
   "cell_type": "markdown",
   "metadata": {},
   "source": [
    "We can use the `fit` method of the `LogisticRegression` object to train the model using our data."
   ]
  },
  {
   "cell_type": "code",
   "execution_count": 14,
   "metadata": {
    "collapsed": false
   },
   "outputs": [
    {
     "data": {
      "text/plain": [
       "LogisticRegression(C=1.0, class_weight=None, dual=False, fit_intercept=True,\n",
       "          intercept_scaling=1, max_iter=100, multi_class='ovr', n_jobs=1,\n",
       "          penalty='l2', random_state=None, solver='liblinear', tol=0.0001,\n",
       "          verbose=0, warm_start=False)"
      ]
     },
     "execution_count": 14,
     "metadata": {},
     "output_type": "execute_result"
    }
   ],
   "source": [
    "# We don't need the i'd column, so drop it.\n",
    "X_wells_names = np.array(['arsenic', 'dist', 'assoc', 'educ'])\n",
    "X_wells = wells[X_wells_names]\n",
    "# The response is already encoded as 0's, and 1's.\n",
    "y_wells = wells['switch']\n",
    "wells_regression.fit(X_wells, y_wells)"
   ]
  },
  {
   "cell_type": "markdown",
   "metadata": {},
   "source": [
    "Now that the regression has been fir, we can use the `predict` method to forecast whether our model thinks a family will switch wells."
   ]
  },
  {
   "cell_type": "code",
   "execution_count": 15,
   "metadata": {
    "collapsed": false
   },
   "outputs": [
    {
     "name": "stdout",
     "output_type": "stream",
     "text": [
      "[1 0 1 1 1 1 1 1 1 1]\n"
     ]
    }
   ],
   "source": [
    "wells_predictions = wells_regression.predict(X_wells)\n",
    "print(wells_predictions[:10])"
   ]
  },
  {
   "cell_type": "markdown",
   "metadata": {},
   "source": [
    "Additionally (and in many cases more usefully), the `LogisticRegression` has a `predict_proba` method that produces a predicted **probability** that a family will switch well."
   ]
  },
  {
   "cell_type": "code",
   "execution_count": 16,
   "metadata": {
    "collapsed": false
   },
   "outputs": [
    {
     "name": "stdout",
     "output_type": "stream",
     "text": [
      "[[ 0.31118714  0.68881286]\n",
      " [ 0.5614724   0.4385276 ]\n",
      " [ 0.26004991  0.73995009]\n",
      " [ 0.33241393  0.66758607]\n",
      " [ 0.38688941  0.61311059]\n",
      " [ 0.21484951  0.78515049]\n",
      " [ 0.3656605   0.6343395 ]\n",
      " [ 0.21683384  0.78316616]\n",
      " [ 0.31486767  0.68513233]\n",
      " [ 0.44459247  0.55540753]]\n"
     ]
    }
   ],
   "source": [
    "wells_probabilities = wells_regression.predict_proba(X_wells)\n",
    "print(wells_probabilities[:10])"
   ]
  },
  {
   "cell_type": "markdown",
   "metadata": {},
   "source": [
    "The `predict_proba` method creates a two column array, the first is the probability the family will not switch, the second is the probability they will.  This means that the rows of this matrix always add to $1$."
   ]
  },
  {
   "cell_type": "code",
   "execution_count": 17,
   "metadata": {
    "collapsed": false
   },
   "outputs": [
    {
     "data": {
      "text/plain": [
       "array([ 1.,  1.,  1., ...,  1.,  1.,  1.])"
      ]
     },
     "execution_count": 17,
     "metadata": {},
     "output_type": "execute_result"
    }
   ],
   "source": [
    "np.sum(wells_probabilities, axis=1)"
   ]
  },
  {
   "cell_type": "markdown",
   "metadata": {},
   "source": [
    "We can use the `predict_proba` method to plot the actual data, along with the predicted probabilities that a family will switch."
   ]
  },
  {
   "cell_type": "code",
   "execution_count": 18,
   "metadata": {
    "collapsed": false
   },
   "outputs": [
    {
     "data": {
      "text/plain": [
       "<matplotlib.text.Text at 0x112da27d0>"
      ]
     },
     "execution_count": 18,
     "metadata": {},
     "output_type": "execute_result"
    },
    {
     "data": {
      "image/png": "[encoded data removed]",
      "text/plain": [
       "<matplotlib.figure.Figure at 0x10ead1810>"
      ]
     },
     "metadata": {},
     "output_type": "display_data"
    }
   ],
   "source": [
    "fig, axs = plt.subplots(1, 2, figsize=(14, 5))\n",
    "\n",
    "axs[0].scatter(wells.dist, wells.switch, s=40, alpha=0.33)\n",
    "axs[0].set_title(\"Actual Data\")\n",
    "axs[0].set_xlabel(\"Distance to Safe Well\")\n",
    "axs[0].set_ylabel(\"Did Resident Switch?\")\n",
    "\n",
    "\n",
    "axs[1].scatter(wells.dist, wells_probabilities[:, 1], s=40, alpha=0.33)\n",
    "axs[1].set_title(\"Predicted Data\")\n",
    "axs[1].set_xlabel(\"Distance to Safe Well\")\n",
    "axs[1].set_ylabel(\"Probability of Switching\")"
   ]
  },
  {
   "cell_type": "markdown",
   "metadata": {},
   "source": [
    "### Alltogether"
   ]
  },
  {
   "cell_type": "markdown",
   "metadata": {},
   "source": [
    "The two regression classes `LinearRegression` and `LogisticRegression` have many methods in common:\n",
    "\n",
    "  - Both have a `fit` methods.  The `fit` methods for both take the same arguments `X` and `y`.\n",
    "  - Both have a `predict` method.  The `predict` methods for both take the same argument, `X`.\n",
    "  \n",
    "We can summarize this by saying that **`LinearRegression` and `LogisticRegression` have the same interface**.  They have the same methods that are used to the same conceptual tasks.  This allows us to write code that performs high level tasks using the `fit` and `predict` methods, which can then be used with any object that implements both `fit` and `predict` methods."
   ]
  },
  {
   "cell_type": "markdown",
   "metadata": {},
   "source": [
    "## Transformers"
   ]
  },
  {
   "cell_type": "markdown",
   "metadata": {},
   "source": [
    "The second interface we will discuss is the **transformer** interface.\n",
    "\n",
    "Oftentimes before using a regression or classification model, it is useful or necessary to transform our data set in some way.\n",
    "\n",
    "A **transformer** consumes a dataset $X$ and outputs a different dataset, oftentimes created by applying some operation to $X$."
   ]
  },
  {
   "cell_type": "markdown",
   "metadata": {},
   "source": [
    "### Standardizing Data"
   ]
  },
  {
   "cell_type": "markdown",
   "metadata": {},
   "source": [
    "One of the most ubiquitous transformers is the `StandardScaler`, which is used to **standardize** a data set.\n",
    "\n",
    "A vector $x$ is said to be **standardized** if it has mean zero and standard deviation one.  If we take *any* vector, then we can transform it into a standardized one by subtracting its mean and dividing by its standard deviation.  This process is called **standardization**.\n",
    "\n",
    "Sklearn includes a class used for standardizing all of the columns in a data set.  The `StandardScalar` class implements the **transformation interface**.\n",
    "\n",
    "1\\.  Create a `StandardScalar` object."
   ]
  },
  {
   "cell_type": "code",
   "execution_count": 19,
   "metadata": {
    "collapsed": false
   },
   "outputs": [],
   "source": [
    "standardizer = StandardScaler()"
   ]
  },
  {
   "cell_type": "markdown",
   "metadata": {},
   "source": [
    "2\\. Use the `fit` method.  Behind the scenes this computes and memorizes the mean and standard deviation of all the columns in the dataset."
   ]
  },
  {
   "cell_type": "code",
   "execution_count": 20,
   "metadata": {
    "collapsed": false
   },
   "outputs": [
    {
     "data": {
      "text/plain": [
       "StandardScaler(copy=True, with_mean=True, with_std=True)"
      ]
     },
     "execution_count": 20,
     "metadata": {},
     "output_type": "execute_result"
    }
   ],
   "source": [
    "standardizer.fit(X_wells)"
   ]
  },
  {
   "cell_type": "markdown",
   "metadata": {},
   "source": [
    "3\\. Use the `transform` method on *any* dataset to perform the standardization (i.e., subtract the memorized mean from each column and divide by its memorized standard deviation. "
   ]
  },
  {
   "cell_type": "code",
   "execution_count": 21,
   "metadata": {
    "collapsed": true
   },
   "outputs": [],
   "source": [
    "X_wells_standardized = standardizer.transform(X_wells)"
   ]
  },
  {
   "cell_type": "code",
   "execution_count": 22,
   "metadata": {
    "collapsed": false
   },
   "outputs": [
    {
     "name": "stdout",
     "output_type": "stream",
     "text": [
      "Mean of column arsenic: -0.00\n",
      "Standard Deviation of column arsenic: 1.00\n",
      "Mean of column dist: 0.00\n",
      "Standard Deviation of column dist: 1.00\n",
      "Mean of column assoc: -0.00\n",
      "Standard Deviation of column assoc: 1.00\n",
      "Mean of column educ: -0.00\n",
      "Standard Deviation of column educ: 1.00\n"
     ]
    }
   ],
   "source": [
    "for name, col in zip(X_wells_names, X_wells_standardized.T):\n",
    "    print \"Mean of column {}: {:2.2f}\".format(name, col.mean())\n",
    "    print \"Standard Deviation of column {}: {:2.2f}\".format(name, col.std())"
   ]
  },
  {
   "cell_type": "markdown",
   "metadata": {},
   "source": [
    "We can then fit a regression to our *standardized* data.  The benefit of this is that now our coefficient estimates are all on the *same scale* and hence can be compared.  This is often used to measure the **predictor importance** in a regression."
   ]
  },
  {
   "cell_type": "code",
   "execution_count": 23,
   "metadata": {
    "collapsed": false
   },
   "outputs": [
    {
     "data": {
      "text/plain": [
       "LogisticRegression(C=1.0, class_weight=None, dual=False, fit_intercept=True,\n",
       "          intercept_scaling=1, max_iter=100, multi_class='ovr', n_jobs=1,\n",
       "          penalty='l2', random_state=None, solver='liblinear', tol=0.0001,\n",
       "          verbose=0, warm_start=False)"
      ]
     },
     "execution_count": 23,
     "metadata": {},
     "output_type": "execute_result"
    }
   ],
   "source": [
    "wells_regression_standardized = LogisticRegression()\n",
    "wells_regression_standardized.fit(X_wells_standardized, y_wells)"
   ]
  },
  {
   "cell_type": "code",
   "execution_count": 24,
   "metadata": {
    "collapsed": false
   },
   "outputs": [
    {
     "name": "stdout",
     "output_type": "stream",
     "text": [
      "[[ 0.51572495 -0.34391818 -0.06132579  0.17016938]]\n"
     ]
    }
   ],
   "source": [
    "print(wells_regression_standardized.coef_)"
   ]
  },
  {
   "cell_type": "markdown",
   "metadata": {},
   "source": [
    "### Removing Features"
   ]
  },
  {
   "cell_type": "markdown",
   "metadata": {},
   "source": [
    "As another example of a transformer, consider `SelectKBest`.  This transformer selects a fixed number of columns from a data set that maximize a given condition.\n",
    "\n",
    "In our example below, we use the popular **chi squared** test to measure the information shared between each column and response, and then select the 3 columns that maximize the information overlap.\n",
    "\n",
    "> the chi-square test measures dependence between stochastic variables, so using this function “weeds out” the features that are the most likely to be independent of class and therefore irrelevant for classification."
   ]
  },
  {
   "cell_type": "code",
   "execution_count": 25,
   "metadata": {
    "collapsed": false
   },
   "outputs": [
    {
     "data": {
      "text/plain": [
       "(3020, 3)"
      ]
     },
     "execution_count": 25,
     "metadata": {},
     "output_type": "execute_result"
    }
   ],
   "source": [
    "best_3_selector = SelectKBest(chi2, k=3)\n",
    "best_3_selector.fit(X_wells, y_wells)\n",
    "X_wells_3_best = best_3_selector.transform(X_wells)\n",
    "X_wells_3_best.shape"
   ]
  },
  {
   "cell_type": "code",
   "execution_count": 26,
   "metadata": {
    "collapsed": false
   },
   "outputs": [
    {
     "name": "stdout",
     "output_type": "stream",
     "text": [
      "['arsenic' 'dist' 'educ']\n"
     ]
    }
   ],
   "source": [
    "print(X_wells_names[best_3_selector.get_support()])"
   ]
  },
  {
   "cell_type": "markdown",
   "metadata": {},
   "source": [
    "### Creating our Own Transformer: Grabbing Specific Columns"
   ]
  },
  {
   "cell_type": "markdown",
   "metadata": {},
   "source": [
    "We can try our hand at creating our own transformer.\n",
    "\n",
    "Let's build a simple transformer that selects pre-specified columns from our dataset.  So, for example, we can use this to:\n",
    "\n",
    "  - Select the first column only.\n",
    "  - Select all but the last column.\n",
    "  - Select the columns at even indexes.\n",
    "  \n",
    "To define a transformer, we need to define a class that implements both `fit` and `transform` methods."
   ]
  },
  {
   "cell_type": "code",
   "execution_count": 27,
   "metadata": {
    "collapsed": true
   },
   "outputs": [],
   "source": [
    "class ColumnSelector(object):\n",
    "    \n",
    "    def __init__(self, idxs):\n",
    "        self.idxs = np.asarray(idxs)\n",
    "        \n",
    "    # Fit here doesn't need to do anything.  We already know the indices of the columns\n",
    "    # we want to keep.\n",
    "    def fit(self, *args, **kwargs):\n",
    "        return self\n",
    "    \n",
    "    def transform(self, X, **transform_params):\n",
    "        # Need to teat pandas data frames and numpy arrays slightly differently.\n",
    "        if isinstance(X_wells, pd.DataFrame):\n",
    "            return X.iloc[:, self.idxs]\n",
    "        return X[:, self.idxs]"
   ]
  },
  {
   "cell_type": "markdown",
   "metadata": {},
   "source": [
    "There are a few rules we need to follow:\n",
    "\n",
    "  - `fit` needs to be defined as either `fit(self, *args, **kwargs)` if we do not need to look at the data to fit the transformer, or `fit(self, X, y, *args, **kwargs)` if we *do* need to look at the data.\n",
    "  - `fit` needs to return `self`.  This is a common oversight, and will case problems when using `Pipeline` below if forgotten.\n",
    "  - `transform` needs to be defined as `transform(self, X, **transform_params)`, and returns the transformed data set.\n",
    "  \n",
    "This process, of implementing certain methods under some constraints, is called **coding to an interface**.  As long as it is done properly, it allows us to seamlessly use our objects inside of code that was designed to work with built in transformer objects.\n",
    "\n",
    "Let's try it out."
   ]
  },
  {
   "cell_type": "code",
   "execution_count": 28,
   "metadata": {
    "collapsed": false
   },
   "outputs": [],
   "source": [
    "column_selector = ColumnSelector([0])\n",
    "column_selector.fit()\n",
    "X_wells_column_selected = column_selector.transform(X_wells)"
   ]
  },
  {
   "cell_type": "code",
   "execution_count": 29,
   "metadata": {
    "collapsed": false
   },
   "outputs": [
    {
     "name": "stdout",
     "output_type": "stream",
     "text": [
      "(3020, 1)\n",
      "['arsenic']\n"
     ]
    }
   ],
   "source": [
    "print(X_wells_column_selected.shape)\n",
    "print(X_wells_names[column_selector.idxs])"
   ]
  },
  {
   "cell_type": "markdown",
   "metadata": {},
   "source": [
    "## Combining Objects: Pipelines"
   ]
  },
  {
   "cell_type": "markdown",
   "metadata": {},
   "source": [
    "One of the neat ideas that transformers allow is **chaining**.  We can take a single input dataset and apply multiple transformations in sequence.  This process is often called **pipelining** because we have metaphorically plumbed together a sequence of transformations.\n",
    "\n",
    "The `Pipeline` class in sklearn allows us to chain together transformers, and optionally end the chain with a single regression or classification model."
   ]
  },
  {
   "cell_type": "code",
   "execution_count": 30,
   "metadata": {
    "collapsed": false
   },
   "outputs": [],
   "source": [
    "wells_pipeline = Pipeline([\n",
    "    ('select_best_3', SelectKBest(chi2, k=3)),\n",
    "    ('standardize', StandardScaler()),\n",
    "    ('regression', LogisticRegression())\n",
    "])"
   ]
  },
  {
   "cell_type": "markdown",
   "metadata": {},
   "source": [
    "Above, we have chained together some of the transformers we discussed earlier:\n",
    "\n",
    "```\n",
    "X --SelectKBest-->        X_best_3 \n",
    "  --StandardScalar-->     X_best_3_standardized \n",
    "  --LogisticRegression--> final_model\n",
    "```\n",
    "\n",
    "Once we have a `Pipeline` we only have to `fit` it **one time**."
   ]
  },
  {
   "cell_type": "code",
   "execution_count": 31,
   "metadata": {
    "collapsed": false
   },
   "outputs": [
    {
     "data": {
      "text/plain": [
       "Pipeline(steps=[('select_best_3', SelectKBest(k=3, score_func=<function chi2 at 0x10e76a8c0>)), ('standardize', StandardScaler(copy=True, with_mean=True, with_std=True)), ('regression', LogisticRegression(C=1.0, class_weight=None, dual=False, fit_intercept=True,\n",
       "          intercept_scaling=1, max_iter=100, multi_class='ovr', n_jobs=1,\n",
       "          penalty='l2', random_state=None, solver='liblinear', tol=0.0001,\n",
       "          verbose=0, warm_start=False))])"
      ]
     },
     "execution_count": 31,
     "metadata": {},
     "output_type": "execute_result"
    }
   ],
   "source": [
    "wells_pipeline.fit(X_wells, y_wells)"
   ]
  },
  {
   "cell_type": "markdown",
   "metadata": {},
   "source": [
    "This has **many, many advantages**.\n",
    "\n",
    "  - It allows us to write **less code**.  Every line of code we write contains potential bugs, bugs are bad.\n",
    "  - It creates a **conceptual unit**.  The `Pipeline` makes clear that each of these transformations is intended to be used **together**.  This makes the code easier to understand.\n",
    "  - It makes our code **harder to abuse**.  Since we intend the transformers to be used together, we would like other developers or our future selves to think hard about whether they want to separate them.\n",
    "  - It make the code more re-usable.  Future developers only have to do **one thing** to reuse all our transformers, instead of needing to `fit` all of them separately, this reduces the chance of mistakes."
   ]
  },
  {
   "cell_type": "markdown",
   "metadata": {},
   "source": [
    "Once our pipeline is fit, we can access the various transformers and regressors/classifiers by using the `named_steps` method."
   ]
  },
  {
   "cell_type": "code",
   "execution_count": 32,
   "metadata": {
    "collapsed": false
   },
   "outputs": [
    {
     "name": "stdout",
     "output_type": "stream",
     "text": [
      "[  1.65693046  48.33186257   4.82847682]\n",
      "[  1.10720366  38.47230347   4.01665205]\n"
     ]
    }
   ],
   "source": [
    "# The column means memorized by the pipeling.\n",
    "print(wells_pipeline.named_steps['standardize'].mean_)\n",
    "# The column standard deviations memorized by the pipeline.\n",
    "print(wells_pipeline.named_steps['standardize'].scale_)"
   ]
  },
  {
   "cell_type": "code",
   "execution_count": 33,
   "metadata": {
    "collapsed": false
   },
   "outputs": [
    {
     "name": "stdout",
     "output_type": "stream",
     "text": [
      "[[ 0.51720702 -0.34373906  0.17166697]]\n"
     ]
    }
   ],
   "source": [
    "print(wells_pipeline.named_steps['regression'].coef_)"
   ]
  },
  {
   "cell_type": "markdown",
   "metadata": {},
   "source": [
    "### Using a Custom Transformer in a Pipeline: Polynomial Expansion"
   ]
  },
  {
   "cell_type": "markdown",
   "metadata": {},
   "source": [
    "Let's try to create a pipeline of our own design.\n",
    "\n",
    "Often it is useful to fit a **polynomial term** in a regression.  So, instead of fitting a regression like\n",
    "\n",
    "$$ \\text{WingSize} \\approx a + b \\times \\text{Latitude} $$\n",
    "\n",
    "We would fit a polynomial curve, for example, a quadratic like\n",
    "\n",
    "$$ \\text{WingSize} \\approx a + b \\times \\text{Latitude} + b \\times \\text{Latitude}^2 $$\n",
    "\n"
   ]
  },
  {
   "cell_type": "markdown",
   "metadata": {},
   "source": [
    "Our first task is to write a transformer class that consumes a **single** column, and creates a matrix with the square, cube, etc of the column."
   ]
  },
  {
   "cell_type": "code",
   "execution_count": 34,
   "metadata": {
    "collapsed": true
   },
   "outputs": [],
   "source": [
    "class PolynomialExpansion(object):\n",
    "    \n",
    "    def __init__(self, degree):\n",
    "        self.degree = degree\n",
    "        \n",
    "    def fit(self, *args, **kwargs):\n",
    "        return self\n",
    "    \n",
    "    def transform(self, X, **transform_params):\n",
    "        # Initialize our return value as a matrix of all zeros.\n",
    "        # We are going to overwrite all of these zeros in the code below.\n",
    "        X_poly = np.zeros((X.shape[0], self.degree))\n",
    "        # The first column in our transformed matrix is just the vector we started with.\n",
    "        X_poly[:, 0] = X.squeeze()\n",
    "        # Cleverness Alert:\n",
    "        # We create the subsequent columns by multiplying the most recently created column\n",
    "        # by X.  This creates the sequence X -> X^2 -> X^3 -> etc...\n",
    "        for i in range(2, self.degree + 1):\n",
    "            X_poly[:, i-1] = X_poly[:, i-2] * X.squeeze()\n",
    "        return X_poly"
   ]
  },
  {
   "cell_type": "markdown",
   "metadata": {},
   "source": [
    "Let's test this out on a simple example."
   ]
  },
  {
   "cell_type": "code",
   "execution_count": 35,
   "metadata": {
    "collapsed": false
   },
   "outputs": [
    {
     "data": {
      "text/plain": [
       "array([[  1.,   1.,   1.],\n",
       "       [  2.,   4.,   8.],\n",
       "       [  3.,   9.,  27.],\n",
       "       [  4.,  16.,  64.]])"
      ]
     },
     "execution_count": 35,
     "metadata": {},
     "output_type": "execute_result"
    }
   ],
   "source": [
    "X = np.array([[1], [2], [3], [4]])\n",
    "P = PolynomialExpansion(3)\n",
    "P.fit(X)\n",
    "P.transform(X)"
   ]
  },
  {
   "cell_type": "markdown",
   "metadata": {},
   "source": [
    "We can use this in a pipeline if our initial matrix has more than one column:  \n",
    "\n",
    "  - We use the `ColumnSelector` to grab a single column.\n",
    "  - Then a `PolynomialExpansion` to make ten polynomial columns."
   ]
  },
  {
   "cell_type": "code",
   "execution_count": 36,
   "metadata": {
    "collapsed": false
   },
   "outputs": [
    {
     "data": {
      "text/plain": [
       "Pipeline(steps=[('latitude_selector', <__main__.ColumnSelector object at 0x112e96fd0>), ('quadratic_expansion', <__main__.PolynomialExpansion object at 0x112e96e10>), ('quadratic_model', LinearRegression(copy_X=True, fit_intercept=True, n_jobs=1, normalize=False))])"
      ]
     },
     "execution_count": 36,
     "metadata": {},
     "output_type": "execute_result"
    }
   ],
   "source": [
    "p = Pipeline([\n",
    "    ('latitude_selector', ColumnSelector([1])),\n",
    "    ('quadratic_expansion', PolynomialExpansion(10)),\n",
    "    ('quadratic_model', LinearRegression())\n",
    "])\n",
    "p.fit(X_insects, y_insects)"
   ]
  },
  {
   "cell_type": "markdown",
   "metadata": {},
   "source": [
    "Since the last object in our pipeline is a `LinearRegression`, the pipeline has a `predict` method."
   ]
  },
  {
   "cell_type": "code",
   "execution_count": 37,
   "metadata": {
    "collapsed": false
   },
   "outputs": [],
   "source": [
    "insects_predictions = p.predict(X_insects)"
   ]
  },
  {
   "cell_type": "markdown",
   "metadata": {},
   "source": [
    "Now we can plot the predictons from our model."
   ]
  },
  {
   "cell_type": "code",
   "execution_count": 38,
   "metadata": {
    "collapsed": false
   },
   "outputs": [
    {
     "data": {
      "text/plain": [
       "<matplotlib.text.Text at 0x11328d3d0>"
      ]
     },
     "execution_count": 38,
     "metadata": {},
     "output_type": "execute_result"
    },
    {
     "data": {
      "image/png": "[encoded data removed]",
      "text/plain": [
       "<matplotlib.figure.Figure at 0x10eebc450>"
      ]
     },
     "metadata": {},
     "output_type": "display_data"
    }
   ],
   "source": [
    "fig, axs = plt.subplots(1, 2, figsize=(14, 5), sharey=True)\n",
    "\n",
    "axs[0].scatter(insects.latitude, insects.wingsize, s=40)\n",
    "axs[0].set_title(\"Actual Data\")\n",
    "axs[0].set_xlabel(\"Latitude\")\n",
    "axs[0].set_ylabel(\"Actual Wing Span\")\n",
    "\n",
    "\n",
    "axs[1].scatter(insects.latitude, insects_predictions, s=40)\n",
    "axs[1].set_title(\"Predicted Data\")\n",
    "axs[1].set_xlabel(\"Latitude\")\n",
    "axs[1].set_ylabel(\"Predicted Wing Span\")"
   ]
  },
  {
   "cell_type": "markdown",
   "metadata": {},
   "source": [
    "## Combining Objects: FeatureUnion"
   ]
  },
  {
   "cell_type": "markdown",
   "metadata": {},
   "source": [
    "What if we want to create a polynomial expansion using **two** features in our model.\n",
    "\n",
    "To accomplish this, we would need to grab two different columns, take a polynomial transformation of them individually, and then re-join the results into a single matrix:\n",
    "\n",
    "```  \n",
    "    +--- Select Column 1 --- Polynomial Expansion ---+\n",
    "X --+                                                +--- Rejoin --> X transfomed\n",
    "    +--- Select Column 2 --- Polynomial Expansion ---+\n",
    "```\n",
    "\n",
    "The splitting and rejoining operation can be accomplished with another sklean feature, the `FeatureUnion`."
   ]
  },
  {
   "cell_type": "markdown",
   "metadata": {},
   "source": [
    "Here's a simple example:\n",
    "\n",
    "```  \n",
    "    +--- Select Column 1 ---+\n",
    "X --+                       +--- Rejoin --> X transfomed\n",
    "    +--- Select Column 2 ---+\n",
    "```"
   ]
  },
  {
   "cell_type": "code",
   "execution_count": 42,
   "metadata": {
    "collapsed": true
   },
   "outputs": [],
   "source": [
    "two_columns = FeatureUnion([\n",
    "    ('arsenic_selector', ColumnSelector([0])),\n",
    "    ('distance_selector', ColumnSelector([1]))\n",
    "])\n",
    "two_columns.fit(X_wells)\n",
    "print(two_columns.transform(X_wells))"
   ]
  },
  {
   "cell_type": "markdown",
   "metadata": {},
   "source": [
    "Of course, in this case we could have just used `ColumnSelector([0, 1])`, but this illistrates what `FeatureUnion` can do."
   ]
  },
  {
   "cell_type": "markdown",
   "metadata": {},
   "source": [
    "Let's end by putting together the example I outlined above:\n",
    "\n",
    "```  \n",
    "    +--- Select Column 1 --- Polynomial Expansion ---+\n",
    "X --+                                                +--- Rejoin --> X transfomed\n",
    "    +--- Select Column 2 --- Polynomial Expansion ---+\n",
    "```\n",
    "\n",
    "We will use polynomials of degree 2, and end the pipeline with a `LogisticRegression`."
   ]
  },
  {
   "cell_type": "code",
   "execution_count": 39,
   "metadata": {
    "collapsed": false
   },
   "outputs": [],
   "source": [
    "wells_pipeline = Pipeline([\n",
    "    ('polynomial_expansions', FeatureUnion([\n",
    "        ('arsenic_quadratic', Pipeline([\n",
    "            ('arsenic_selector', ColumnSelector([0])),\n",
    "            ('quadratic_expansion', PolynomialExpansion(2))\n",
    "        ])),\n",
    "        ('distance_quadratic', Pipeline([\n",
    "            ('distance_selector', ColumnSelector([1])),\n",
    "            ('quadratic_expansion', PolynomialExpansion(2))         \n",
    "        ]))\n",
    "    ])),\n",
    "    ('regression', LogisticRegression())\n",
    "])"
   ]
  },
  {
   "cell_type": "markdown",
   "metadata": {},
   "source": [
    "This is now a pipline of considerable complexity.  Even so, using it is exactly the same as any of the simpler pipelines that we constructed earlier."
   ]
  },
  {
   "cell_type": "code",
   "execution_count": 45,
   "metadata": {
    "collapsed": false
   },
   "outputs": [
    {
     "data": {
      "text/plain": [
       "Pipeline(steps=[('polynomial_expansions', FeatureUnion(n_jobs=1,\n",
       "       transformer_list=[('arsenic_quadratic', Pipeline(steps=[('arsenic_selector', <__main__.ColumnSelector object at 0x10ef4fad0>), ('quadratic_expansion', <__main__.PolynomialExpansion object at 0x10ef4f750>)])), ('distance_quadratic', Pipel...ty='l2', random_state=None, solver='liblinear', tol=0.0001,\n",
       "          verbose=0, warm_start=False))])"
      ]
     },
     "execution_count": 45,
     "metadata": {},
     "output_type": "execute_result"
    }
   ],
   "source": [
    "wells_pipeline.fit(X_wells, y_wells)"
   ]
  },
  {
   "cell_type": "code",
   "execution_count": 49,
   "metadata": {
    "collapsed": false
   },
   "outputs": [],
   "source": [
    "wells_quadratic_predictions = wells_pipeline.predict_proba(X_wells)"
   ]
  },
  {
   "cell_type": "code",
   "execution_count": 51,
   "metadata": {
    "collapsed": false
   },
   "outputs": [
    {
     "data": {
      "text/plain": [
       "<matplotlib.text.Text at 0x1150ee6d0>"
      ]
     },
     "execution_count": 51,
     "metadata": {},
     "output_type": "execute_result"
    },
    {
     "data": {
      "image/png": "[encoded data removed]",
      "text/plain": [
       "<matplotlib.figure.Figure at 0x113ff6ad0>"
      ]
     },
     "metadata": {},
     "output_type": "display_data"
    }
   ],
   "source": [
    "fig, axs = plt.subplots(1, 2, figsize=(14, 5), sharey=True)\n",
    "\n",
    "axs[0].scatter(wells.dist, wells.switch, s=40, alpha=0.33)\n",
    "axs[0].set_title(\"Actual Data\")\n",
    "axs[0].set_xlabel(\"Distance to Safe Well\")\n",
    "axs[0].set_ylabel(\"Did Resident Switch?\")\n",
    "\n",
    "\n",
    "axs[1].scatter(wells.dist, wells_quadratic_predictions[:, 1], s=40, alpha=0.33)\n",
    "axs[1].set_title(\"Predicted Data\")\n",
    "axs[1].set_xlabel(\"Distance to Safe Well\")\n",
    "axs[1].set_ylabel(\"Probability of Switching\")"
   ]
  }
 ],
 "metadata": {
  "anaconda-cloud": {},
  "kernelspec": {
   "display_name": "Python [Root]",
   "language": "python",
   "name": "Python [Root]"
  },
  "language_info": {
   "codemirror_mode": {
    "name": "ipython",
    "version": 2
   },
   "file_extension": ".py",
   "mimetype": "text/x-python",
   "name": "python",
   "nbconvert_exporter": "python",
   "pygments_lexer": "ipython2",
   "version": "2.7.12"
  }
 },
 "nbformat": 4,
 "nbformat_minor": 0
}
